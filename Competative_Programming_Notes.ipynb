{
 "cells": [
  {
   "cell_type": "markdown",
   "metadata": {},
   "source": [
    "## Algorithm Analysis"
   ]
  },
  {
   "cell_type": "markdown",
   "metadata": {},
   "source": [
    "### Basic time and space complexity analysis:"
   ]
  },
  {
   "cell_type": "markdown",
   "metadata": {},
   "source": [
    "*  An algorithm with k-nested loops of about n iterations each has $O(n^k)$ complexity\n",
    "*  If your algorithm is recursive with b recursive calls per level and has L levels, the algorithm has roughly $O(b^L)$ complexity, but this is a only a rough upper bound. The actual complexity depends on what actions are done per level and whether pruning is possible. \n",
    "*  A Dynamic Programming algorithm or other iterative routine which processes a 2D n×n matrix in $O(k)$ per cell runs in $O(k ×n^2)$ time."
   ]
  },
  {
   "cell_type": "markdown",
   "metadata": {},
   "source": [
    "### Familiarity with these bounds: "
   ]
  },
  {
   "cell_type": "markdown",
   "metadata": {},
   "source": [
    "* $ 2^{10} =1,024≈10^3$ <br>\n",
    "  $2^{20} =1,048,576≈10^6 $"
   ]
  },
  {
   "cell_type": "markdown",
   "metadata": {},
   "source": [
    "* **32-bit signed integers (int)** and **64-bit signed integers (long long)** have upper limits of $2^{31}−1 ≈2×10^9$ (safe for up to $\\approx9$ decimal digits) and $2^{63}−1 \\approx 9×10^{18}$ (safe for up to $\\approx$ 18 decimal digits) respectively. "
   ]
  },
  {
   "cell_type": "markdown",
   "metadata": {},
   "source": [
    "*  **Unsigned integers** can be used if only **non-negative** numbers are required. **32-bit unsigned integers (unsigned int) and 64-bit unsigned integers (unsigned long long)** have upper limits of $2^{32}−1 ≈4×10^9$ and $2^{64}−1 \\approx 1.8×10^{19}$ respectively"
   ]
  },
  {
   "cell_type": "markdown",
   "metadata": {},
   "source": [
    "* $1M = 10^6$"
   ]
  },
  {
   "cell_type": "markdown",
   "metadata": {},
   "source": [
    "### Bitwise Techniques"
   ]
  },
  {
   "cell_type": "markdown",
   "metadata": {},
   "source": [
    "* **bitset**<4> num=4"
   ]
  },
  {
   "cell_type": "markdown",
   "metadata": {},
   "source": [
    "*  To **multiply/divide** an integer by 2 (or any power of 2), we only need to **shift the bits** in the integer left/right, respectively."
   ]
  },
  {
   "cell_type": "markdown",
   "metadata": {},
   "source": [
    "* To check if the $j^(th)$ item of the number is on, use the bitwise AND operation **T = S & (1<< j).**"
   ]
  },
  {
   "cell_type": "markdown",
   "metadata": {},
   "source": [
    "*  To **clear** $j^(th)$ bit use **S &=∼(1 << j)**"
   ]
  },
  {
   "cell_type": "markdown",
   "metadata": {},
   "source": [
    "* To **toggle** $j^(th)$ bit use **XOR** as **S ^= (1 << j)*** "
   ]
  },
  {
   "cell_type": "markdown",
   "metadata": {},
   "source": [
    "* To get the value of the  **least signiﬁcant bit** that is on (ﬁrst from the right), use **T = (S & (-S)**"
   ]
  },
  {
   "cell_type": "markdown",
   "metadata": {},
   "source": [
    "* ~N = -(N-1)"
   ]
  },
  {
   "cell_type": "markdown",
   "metadata": {},
   "source": [
    "* Number of set bits:<br/> \n",
    "    * `while(n>0) n&=(n-1)`, **Time Complexity: O(no. of set bits)**\n",
    "    * `__builtin_popcount(n)`"
   ]
  },
  {
   "cell_type": "markdown",
   "metadata": {},
   "source": []
  },
  {
   "cell_type": "markdown",
   "metadata": {},
   "source": [
    "### Dynamic Programming"
   ]
  },
  {
   "cell_type": "markdown",
   "metadata": {},
   "source": [
    "- Identification: \n",
    "    - Choices (It means recursive)\n",
    "    - Optimal Substructure (max, min largest,etc.)"
   ]
  },
  {
   "cell_type": "markdown",
   "metadata": {},
   "source": [
    "- Approach: Recusrsive (Use choice diagram) -> Memoisation -> Bottom Up"
   ]
  },
  {
   "cell_type": "markdown",
   "metadata": {},
   "source": []
  },
  {
   "cell_type": "markdown",
   "metadata": {},
   "source": []
  }
 ],
 "metadata": {
  "kernelspec": {
   "display_name": "Python 3",
   "language": "python",
   "name": "python3"
  },
  "language_info": {
   "codemirror_mode": {
    "name": "ipython",
    "version": 3
   },
   "file_extension": ".py",
   "mimetype": "text/x-python",
   "name": "python",
   "nbconvert_exporter": "python",
   "pygments_lexer": "ipython3",
   "version": "3.7.1"
  }
 },
 "nbformat": 4,
 "nbformat_minor": 2
}